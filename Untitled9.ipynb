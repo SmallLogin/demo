{
 "cells": [
  {
   "cell_type": "code",
   "execution_count": null,
   "metadata": {},
   "outputs": [],
   "source": [
    "#!/usr/bin/env python\n",
    "# -*- coding: utf-8 -*-\n",
    "# @Time    : 2018/11/19 10:25\n",
    "# @Author  : blvin.Don\n",
    "# @File    : FTP_server.py\n",
    "\n",
    "from pyftpdlib.authorizers import DummyAuthorizer\n",
    "from pyftpdlib.handlers import FTPHandler\n",
    "from pyftpdlib.servers import FTPServer\n",
    "import os\n",
    "\n",
    "CUR_PATH = r'D:/UAV_image'\n",
    "def del_file(path):\n",
    "    ls = os.listdir(path)\n",
    "    for i in ls:\n",
    "        c_path = os.path.join(path, i)\n",
    "        if os.path.isdir(c_path):\n",
    "            del_file(c_path)\n",
    "        else:\n",
    "            os.remove(c_path)\n",
    "del_file(CUR_PATH)\n",
    "\n",
    "#实例化虚拟用户，这是FTP验证首要条件\n",
    "authorizer = DummyAuthorizer()\n",
    "\n",
    "#添加用户权限和路径，括号内的参数是(用户名， 密码， 用户目录， 权限)\n",
    "authorizer.add_user('user', '12345', 'D:/UAV_image', perm='elradfmw')\n",
    "\n",
    "#添加匿名用户 只需要路径\n",
    "authorizer.add_anonymous('D:/UAV_image')\n",
    "\n",
    "#初始化ftp句柄\n",
    "handler = FTPHandler\n",
    "handler.authorizer = authorizer\n",
    "\n",
    "#添加被动端口范围\n",
    "handler.passive_ports = range(2000, 2333)\n",
    "\n",
    "#监听ip 和 端口\n",
    "server = FTPServer(('192.168.31.16', 8090), handler)\n",
    "\n",
    "#开始服务\n",
    "server.serve_forever()\n"
   ]
  }
 ],
 "metadata": {
  "kernelspec": {
   "display_name": "Python 3",
   "language": "python",
   "name": "python3"
  },
  "language_info": {
   "codemirror_mode": {
    "name": "ipython",
    "version": 3
   },
   "file_extension": ".py",
   "mimetype": "text/x-python",
   "name": "python",
   "nbconvert_exporter": "python",
   "pygments_lexer": "ipython3",
   "version": "3.6.6"
  }
 },
 "nbformat": 4,
 "nbformat_minor": 2
}
