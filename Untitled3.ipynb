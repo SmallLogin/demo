{
 "cells": [
  {
   "cell_type": "code",
   "execution_count": 1,
   "metadata": {},
   "outputs": [],
   "source": [
    "import cv2\n",
    "import numpy as np\n",
    "\n",
    "knn = cv2.createBackgroundSubtractorKNN(detectShadows = True)\n",
    "es = cv2.getStructuringElement(cv2.MORPH_ELLIPSE, (20,12))\n",
    "camera = cv2.VideoCapture(\"traffic.flv\")\n",
    "\n",
    "def drawCnt(fn, cnt):\n",
    "    if cv2.contourArea(cnt) > 1400:\n",
    "        (x, y, w, h) = cv2.boundingRect(cnt)\n",
    "        cv2.rectangle(fn, (x, y), (x + w, y + h), (255, 255, 0), 2)\n",
    "\n",
    "while True:\n",
    "    ret, frame = camera.read()\n",
    "    if not ret:\n",
    "        break\n",
    "    fg = knn.apply(frame.copy()) #计算了前景掩码\n",
    "    fg_bgr = cv2.cvtColor(fg, cv2.COLOR_GRAY2BGR)\n",
    "    bw_and = cv2.bitwise_and(fg_bgr, frame)\n",
    "    draw = cv2.cvtColor(bw_and, cv2.COLOR_BGR2GRAY)\n",
    "    draw = cv2.GaussianBlur(draw, (21, 21), 0)\n",
    "    draw = cv2.threshold(draw, 20, 255, cv2.THRESH_BINARY)[1]\n",
    "    draw = cv2.dilate(draw, es, iterations = 2)\n",
    "    image, contours, hierarchy = cv2.findContours(draw.copy(), cv2.RETR_EXTERNAL, cv2.CHAIN_APPROX_SIMPLE)\n",
    "    for c in contours:\n",
    "        drawCnt(frame, c)\n",
    "    cv2.imshow(\"motion detection\", frame)\n",
    "    if cv2.waitKey(int(1000 / 12)) & 0xff == ord(\"q\"):\n",
    "        break\n",
    "\n",
    "camera.release()\n",
    "cv2.destroyAllWindows()"
   ]
  },
  {
   "cell_type": "code",
   "execution_count": null,
   "metadata": {},
   "outputs": [],
   "source": []
  }
 ],
 "metadata": {
  "kernelspec": {
   "display_name": "Python 3",
   "language": "python",
   "name": "python3"
  },
  "language_info": {
   "codemirror_mode": {
    "name": "ipython",
    "version": 3
   },
   "file_extension": ".py",
   "mimetype": "text/x-python",
   "name": "python",
   "nbconvert_exporter": "python",
   "pygments_lexer": "ipython3",
   "version": "3.6.6"
  }
 },
 "nbformat": 4,
 "nbformat_minor": 2
}
