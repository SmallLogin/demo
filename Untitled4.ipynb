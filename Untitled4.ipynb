{
 "cells": [
  {
   "cell_type": "code",
   "execution_count": 1,
   "metadata": {},
   "outputs": [],
   "source": [
    "#-*- coding:utf-8 -*-\n",
    "import cv2\n",
    "import numpy as np\n",
    "\n",
    "# 1.常见一个BackgroundSubtractorKNN接口\n",
    "bs = cv2.createBackgroundSubtractorKNN(detectShadows=True)\n",
    "\n",
    "#2.读取视频\n",
    "camera = cv2.VideoCapture('traffic.flv')\n",
    "\n",
    "#定义卷积核圆形\n",
    "kernel = cv2.getStructuringElement(cv2.MORPH_ELLIPSE,(3,3))\n",
    "\n",
    "while True:\n",
    "    ret,frame = camera.read()\n",
    "\n",
    "    #3. apply()函数计算了前景掩码\n",
    "    fgmask = bs.apply(frame)\n",
    "\n",
    "    #4. 获得前景掩码（含有白色值以及阴影的灰色值），通过设定阈值将非白色（244~255）的所有像素都设为0，而不是1；\n",
    "    th = cv2.threshold(fgmask.copy(),244,255,cv2.THRESH_BINARY)[1]    #二值化操作\n",
    "\n",
    "    dilated = cv2.dilate(th,kernel,iterations =2)    #5.膨胀操作\n",
    "                #cv2.getStructuringElement 构建一个椭圆形的核\n",
    "                #3x3卷积核中有2个1那就设置为1\n",
    "\n",
    "\n",
    "    #6. findContours函数参数说明cv2.RETR_EXTERNAL只检测外轮廓，\n",
    "    # cv2.CHAIN_APPROX_SIMPLE只存储水平，垂直，对角直线的起始点。\n",
    "    image,contours,hier = cv2.findContours(dilated,cv2.RETR_EXTERNAL,cv2.CHAIN_APPROX_SIMPLE)    #查找轮廓\n",
    "\n",
    "\n",
    "    for c in contours:    #从list列表取出每个轮廓\n",
    "        if cv2.contourArea(c) < 1500:    #进行轮廓筛选 轮廓面积小于1500\n",
    "            continue\n",
    "\n",
    "        (x,y,w,h) = cv2.boundingRect(c)\n",
    "        cv2.rectangle(frame,(x,y),(x+w,y+h),(0,255,0),2)\n",
    "\n",
    "\n",
    "\n",
    "    cv2.imshow(\"mog\",fgmask)\n",
    "    cv2.imshow(\"thresh\",th)\n",
    "    cv2.imshow(\"detection\",frame)\n",
    "\n",
    "    if cv2.waitKey(100) & 0xff == ord(\"q\"):\n",
    "        break\n",
    "\n",
    "camera.release()\n",
    "cv2.destroyAllWindows()"
   ]
  },
  {
   "cell_type": "code",
   "execution_count": null,
   "metadata": {},
   "outputs": [],
   "source": []
  }
 ],
 "metadata": {
  "kernelspec": {
   "display_name": "Python 3",
   "language": "python",
   "name": "python3"
  },
  "language_info": {
   "codemirror_mode": {
    "name": "ipython",
    "version": 3
   },
   "file_extension": ".py",
   "mimetype": "text/x-python",
   "name": "python",
   "nbconvert_exporter": "python",
   "pygments_lexer": "ipython3",
   "version": "3.6.6"
  }
 },
 "nbformat": 4,
 "nbformat_minor": 2
}
