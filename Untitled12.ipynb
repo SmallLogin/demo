{
 "cells": [
  {
   "cell_type": "code",
   "execution_count": null,
   "metadata": {},
   "outputs": [],
   "source": []
  },
  {
   "cell_type": "code",
   "execution_count": null,
   "metadata": {},
   "outputs": [],
   "source": []
  },
  {
   "cell_type": "code",
   "execution_count": null,
   "metadata": {},
   "outputs": [],
   "source": [
    "import cv2 as cv\n",
    " \n",
    "src1 = cv.imread(\"image01.jpg\")\n",
    " \n",
    "# 原始图片\n",
    "cv.namedWindow('window')\n",
    "cv.imshow('window', src1)\n",
    " \n",
    "# 复制-边界扩充\n",
    "img1 = cv.copyMakeBorder(src1, 50, 50, 50, 50, cv.BORDER_REPLICATE)\n",
    "cv.imshow('replicate', img1)\n",
    "# reflect，边界反射扩充\n",
    "img2 = cv.copyMakeBorder(src1, 50, 50, 50, 50, cv.BORDER_REFLECT)\n",
    "cv.imshow('reflect', img2)\n",
    "# consdent,常数扩充\n",
    "img3 = cv.copyMakeBorder(src1, 50, 50, 50, 50, cv.BORDER_CONSTANT, value=[200, 200, 200])\n",
    "cv.imshow('constent', img3)\n",
    "# wrap,平铺扩充\n",
    "img4 = cv.copyMakeBorder(src1, 50, 50, 50, 50, cv.BORDER_WRAP)\n",
    "cv.imshow('warp', img4)\n",
    " \n",
    "cv.waitKey()\n",
    "cv.destroyAllWindows()"
   ]
  },
  {
   "cell_type": "code",
   "execution_count": null,
   "metadata": {},
   "outputs": [],
   "source": []
  }
 ],
 "metadata": {
  "kernelspec": {
   "display_name": "Python 3",
   "language": "python",
   "name": "python3"
  },
  "language_info": {
   "codemirror_mode": {
    "name": "ipython",
    "version": 3
   },
   "file_extension": ".py",
   "mimetype": "text/x-python",
   "name": "python",
   "nbconvert_exporter": "python",
   "pygments_lexer": "ipython3",
   "version": "3.6.6"
  }
 },
 "nbformat": 4,
 "nbformat_minor": 2
}
