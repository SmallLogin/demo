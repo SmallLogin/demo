{
 "cells": [
  {
   "cell_type": "code",
   "execution_count": 2,
   "metadata": {},
   "outputs": [
    {
     "ename": "ModuleNotFoundError",
     "evalue": "No module named 'cv2'",
     "output_type": "error",
     "traceback": [
      "\u001b[1;31m---------------------------------------------------------------------------\u001b[0m",
      "\u001b[1;31mModuleNotFoundError\u001b[0m                       Traceback (most recent call last)",
      "\u001b[1;32m<ipython-input-2-7877bc629d08>\u001b[0m in \u001b[0;36m<module>\u001b[1;34m()\u001b[0m\n\u001b[0;32m      1\u001b[0m \u001b[1;31m# -*- coding:utf-8 -*-\u001b[0m\u001b[1;33m\u001b[0m\u001b[1;33m\u001b[0m\u001b[0m\n\u001b[0;32m      2\u001b[0m \u001b[1;33m\u001b[0m\u001b[0m\n\u001b[1;32m----> 3\u001b[1;33m \u001b[1;32mimport\u001b[0m \u001b[0mcv2\u001b[0m\u001b[1;33m\u001b[0m\u001b[0m\n\u001b[0m\u001b[0;32m      4\u001b[0m \u001b[1;33m\u001b[0m\u001b[0m\n\u001b[0;32m      5\u001b[0m \u001b[1;31m# Step1. 初始化VideoCapture对象\u001b[0m\u001b[1;33m\u001b[0m\u001b[1;33m\u001b[0m\u001b[0m\n",
      "\u001b[1;31mModuleNotFoundError\u001b[0m: No module named 'cv2'"
     ]
    }
   ],
   "source": [
    "# -*- coding:utf-8 -*-\n",
    "\n",
    "import cv2\n",
    "\n",
    "# Step1. 初始化VideoCapture对象\n",
    "cap = cv2.VideoCapture('traffic.flv')\n",
    "\n",
    "# Step2. 使用KNN背景分割器\n",
    "knn= cv2.createBackgroundSubtractorKNN(detectShadows=True)\n",
    "\n",
    "while True :\n",
    "    ret, frame = cap.read()\n",
    "    fgmask = knn.apply(frame) # 分割背景\n",
    "\n",
    "    # 阈值化，将非纯白色（244~255）的所有像素设为0\n",
    "    th = cv2.threshold(fgmask.copy(), 244, 255, cv2.THRESH_BINARY)[1]\n",
    "\n",
    "    # 为了使效果更好，进行一次膨胀\n",
    "    dilated = cv2.dilate(th, cv2.getStructuringElement(cv2.MORPH_ELLIPSE, (3,3)), iterations=2)\n",
    "\n",
    "    # 检测轮廓\n",
    "    image, contours, hier = cv2.findContours(dilated, cv2.RETR_EXTERNAL, cv2.CHAIN_APPROX_SIMPLE)\n",
    "\n",
    "    # 绘制轮廓\n",
    "    for c in contours:\n",
    "        if cv2.contourArea(c) > 1600:\n",
    "            (x,y,w,h) = cv2.boundingRect(c)\n",
    "            cv2.rectangle(frame, (x,y), (x+w, y+h), (0,255,0), 2)\n",
    "\n",
    "    cv2.imshow('detection', frame)\n",
    "    if cv2.waitKey(100) & 0xff == ord('q'):\n",
    "        break\n",
    "\n",
    "cap.release()\n",
    "cv2.destroyAllWindows()\n"
   ]
  },
  {
   "cell_type": "code",
   "execution_count": null,
   "metadata": {},
   "outputs": [],
   "source": []
  }
 ],
 "metadata": {
  "kernelspec": {
   "display_name": "Python 3",
   "language": "python",
   "name": "python3"
  }
 },
 "nbformat": 4,
 "nbformat_minor": 2
}
