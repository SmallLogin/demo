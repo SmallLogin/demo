{
 "cells": [
  {
   "cell_type": "code",
   "execution_count": 2,
   "metadata": {},
   "outputs": [
    {
     "name": "stdout",
     "output_type": "stream",
     "text": [
      "8.0\n",
      "end!\n"
     ]
    }
   ],
   "source": [
    "#placehold\n",
    "import tensorflow as tf\n",
    "data1=tf.placeholder(tf.float32)\n",
    "data2=tf.placeholder(tf.float32)\n",
    "dataAdd=tf.add(data1,data2)\n",
    "with tf.Session() as sess:\n",
    "    print(sess.run(dataAdd,feed_dict={data1:6,data2:2}))\n",
    "print('end!')"
   ]
  },
  {
   "cell_type": "code",
   "execution_count": 5,
   "metadata": {},
   "outputs": [
    {
     "name": "stdout",
     "output_type": "stream",
     "text": [
      "(3, 2)\n",
      "[[1 2]\n",
      " [3 4]\n",
      " [5 6]]\n",
      "[1 2]\n",
      "[1 3 5]\n",
      "1\n"
     ]
    }
   ],
   "source": [
    "#矩阵的定义与读取操作\n",
    "import tensorflow as tf\n",
    "data1=tf.constant([[6,6]])\n",
    "data2=tf.constant([[2],[2]])\n",
    "data3=tf.constant([[3,3]])\n",
    "data4=tf.constant([[1,2],[3,4],[5,6]])\n",
    "print(data4.shape)#维度\n",
    "with tf.Session() as sess:\n",
    "    print(sess.run(data4))#打印全部元素\n",
    "    print(sess.run(data4[0]))#打印某一行\n",
    "    print(sess.run(data4[:,0]))#打印某一列\n",
    "    print(sess.run(data4[0,0]))#打印某行某列"
   ]
  },
  {
   "cell_type": "code",
   "execution_count": 10,
   "metadata": {},
   "outputs": [
    {
     "name": "stdout",
     "output_type": "stream",
     "text": [
      "[[24]]\n",
      "[[9 9]]\n",
      "[[12 12]\n",
      " [12 12]]\n",
      "[array([[24]]), array([[9, 9]])]\n"
     ]
    }
   ],
   "source": [
    "#矩阵的运算\n",
    "import tensorflow as tf\n",
    "data1=tf.constant([[6,6]])\n",
    "data2=tf.constant([[2],[2]])\n",
    "data3=tf.constant([[3,3]])\n",
    "data4=tf.constant([[1,2],[3,4],[5,6]])\n",
    "matMul=tf.matmul(data1,data2)\n",
    "matMul2=tf.multiply(data1,data2)\n",
    "matAdd=tf.add(data1,data3)\n",
    "with tf.Session() as sess:\n",
    "    print(sess.run(matMul))\n",
    "    print(sess.run(matAdd))\n",
    "    print(sess.run(matMul2))\n",
    "    print(sess.run([matMul,matAdd]))"
   ]
  },
  {
   "cell_type": "code",
   "execution_count": 15,
   "metadata": {},
   "outputs": [
    {
     "name": "stdout",
     "output_type": "stream",
     "text": [
      "[[0 0 0]\n",
      " [0 0 0]]\n",
      "[[0. 0. 0.]\n",
      " [0. 0. 0.]]\n",
      "[[1. 1.]\n",
      " [1. 1.]\n",
      " [1. 1.]]\n",
      "[[15 15 15]\n",
      " [15 15 15]]\n"
     ]
    }
   ],
   "source": [
    "#定义一个空矩阵，当其较大时用zeros,特殊矩阵的定义\n",
    "import tensorflow as  tf\n",
    "mat0=tf.constant([[0,0,0],[0,0,0]])\n",
    "mat1=tf.zeros([2,3])#全0矩阵\n",
    "mat2=tf.ones([3,2])#全1矩阵\n",
    "mat3=tf.fill([2,3],15)\n",
    "\n",
    "with tf.Session() as sess:\n",
    "    print(sess.run(mat0))\n",
    "    print(sess.run(mat1))\n",
    "    print(sess.run(mat2))\n",
    "    print(sess.run(mat3))"
   ]
  },
  {
   "cell_type": "code",
   "execution_count": 16,
   "metadata": {},
   "outputs": [
    {
     "name": "stdout",
     "output_type": "stream",
     "text": [
      "[[2]\n",
      " [3]\n",
      " [4]]\n",
      "[[0]\n",
      " [0]\n",
      " [0]]\n",
      "[0.        0.2       0.4       0.6       0.8       1.        1.2\n",
      " 1.4       1.6       1.8000001 2.       ]\n",
      "[[0.03402019 1.7338934  0.3346969 ]\n",
      " [1.5613284  0.6183938  1.4524918 ]]\n"
     ]
    }
   ],
   "source": [
    "#特殊矩阵的定义\n",
    "import tensorflow as tf\n",
    "mat1 = tf.constant([[2],[3],[4]])#定义mat1为一个三行一列的矩阵\n",
    "mat2=tf.zeros_like(mat1)#定义mat2为与mat1 具有一样维度的空矩阵\n",
    "mat3=tf.linspace(0.0,2.0,11)#定义一个从0--2之间划分10个相同等分的矩阵\n",
    "mat4=tf.random_uniform([2,3],-1,2)#随机定义一个从-1---2之间的2行3列的矩阵\n",
    "with tf.Session() as sess:\n",
    "    print(sess.run(mat1))\n",
    "    print(sess.run(mat2))\n",
    "    print(sess.run(mat3))\n",
    "    print(sess.run(mat4))"
   ]
  },
  {
   "cell_type": "code",
   "execution_count": null,
   "metadata": {},
   "outputs": [],
   "source": []
  }
 ],
 "metadata": {
  "kernelspec": {
   "display_name": "Python 3",
   "language": "python",
   "name": "python3"
  },
  "language_info": {
   "codemirror_mode": {
    "name": "ipython",
    "version": 3
   },
   "file_extension": ".py",
   "mimetype": "text/x-python",
   "name": "python",
   "nbconvert_exporter": "python",
   "pygments_lexer": "ipython3",
   "version": "3.6.6"
  }
 },
 "nbformat": 4,
 "nbformat_minor": 2
}
