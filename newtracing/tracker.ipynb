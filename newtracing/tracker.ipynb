{
 "cells": [
  {
   "cell_type": "code",
   "execution_count": 5,
   "metadata": {},
   "outputs": [
    {
     "ename": "SyntaxError",
     "evalue": "invalid syntax (<ipython-input-5-7b51ff5457a9>, line 1)",
     "output_type": "error",
     "traceback": [
      "\u001b[1;36m  File \u001b[1;32m\"<ipython-input-5-7b51ff5457a9>\"\u001b[1;36m, line \u001b[1;32m1\u001b[0m\n\u001b[1;33m    $run object_tracker.py --video tracker01.mp4 --tracker kcf\u001b[0m\n\u001b[1;37m    ^\u001b[0m\n\u001b[1;31mSyntaxError\u001b[0m\u001b[1;31m:\u001b[0m invalid syntax\n"
     ]
    }
   ],
   "source": [
    "$run object_tracker.py --video tracker01.mp4 --tracker kcf"
   ]
  },
  {
   "cell_type": "code",
   "execution_count": 9,
   "metadata": {},
   "outputs": [
    {
     "ename": "AttributeError",
     "evalue": "module 'cv2' has no attribute 'INTER_AREA'",
     "output_type": "error",
     "traceback": [
      "\u001b[1;31m---------------------------------------------------------------------------\u001b[0m",
      "\u001b[1;31mAttributeError\u001b[0m                            Traceback (most recent call last)",
      "\u001b[1;32m<ipython-input-9-d840f326b963>\u001b[0m in \u001b[0;36m<module>\u001b[1;34m\u001b[0m\n\u001b[1;32m----> 1\u001b[1;33m \u001b[1;32mimport\u001b[0m \u001b[0mimutils\u001b[0m\u001b[1;33m\u001b[0m\u001b[1;33m\u001b[0m\u001b[0m\n\u001b[0m\u001b[0;32m      2\u001b[0m \u001b[1;32mimport\u001b[0m \u001b[0margparse\u001b[0m\u001b[1;33m\u001b[0m\u001b[1;33m\u001b[0m\u001b[0m\n\u001b[0;32m      3\u001b[0m \u001b[1;32mimport\u001b[0m \u001b[0mtime\u001b[0m\u001b[1;33m\u001b[0m\u001b[1;33m\u001b[0m\u001b[0m\n\u001b[0;32m      4\u001b[0m \u001b[1;32mimport\u001b[0m \u001b[0mcv2\u001b[0m\u001b[1;33m\u001b[0m\u001b[1;33m\u001b[0m\u001b[0m\n\u001b[0;32m      5\u001b[0m \u001b[1;32mfrom\u001b[0m \u001b[0mimutils\u001b[0m\u001b[1;33m.\u001b[0m\u001b[0mvideo\u001b[0m \u001b[1;32mimport\u001b[0m \u001b[0mVideoStream\u001b[0m\u001b[1;33m\u001b[0m\u001b[1;33m\u001b[0m\u001b[0m\n",
      "\u001b[1;32mE:\\Anaconda3-5.2.0-Windows-x86_64\\anaconda\\envs\\python3.6\\lib\\site-packages\\imutils\\__init__.py\u001b[0m in \u001b[0;36m<module>\u001b[1;34m\u001b[0m\n\u001b[0;32m      6\u001b[0m \u001b[1;33m\u001b[0m\u001b[0m\n\u001b[0;32m      7\u001b[0m \u001b[1;31m# import the necessary packages\u001b[0m\u001b[1;33m\u001b[0m\u001b[1;33m\u001b[0m\u001b[1;33m\u001b[0m\u001b[0m\n\u001b[1;32m----> 8\u001b[1;33m \u001b[1;32mfrom\u001b[0m \u001b[1;33m.\u001b[0m\u001b[0mconvenience\u001b[0m \u001b[1;32mimport\u001b[0m \u001b[0mtranslate\u001b[0m\u001b[1;33m\u001b[0m\u001b[1;33m\u001b[0m\u001b[0m\n\u001b[0m\u001b[0;32m      9\u001b[0m \u001b[1;32mfrom\u001b[0m \u001b[1;33m.\u001b[0m\u001b[0mconvenience\u001b[0m \u001b[1;32mimport\u001b[0m \u001b[0mrotate\u001b[0m\u001b[1;33m\u001b[0m\u001b[1;33m\u001b[0m\u001b[0m\n\u001b[0;32m     10\u001b[0m \u001b[1;32mfrom\u001b[0m \u001b[1;33m.\u001b[0m\u001b[0mconvenience\u001b[0m \u001b[1;32mimport\u001b[0m \u001b[0mrotate_bound\u001b[0m\u001b[1;33m\u001b[0m\u001b[1;33m\u001b[0m\u001b[0m\n",
      "\u001b[1;32mE:\\Anaconda3-5.2.0-Windows-x86_64\\anaconda\\envs\\python3.6\\lib\\site-packages\\imutils\\convenience.py\u001b[0m in \u001b[0;36m<module>\u001b[1;34m\u001b[0m\n\u001b[0;32m     63\u001b[0m     \u001b[1;32mreturn\u001b[0m \u001b[0mcv2\u001b[0m\u001b[1;33m.\u001b[0m\u001b[0mwarpAffine\u001b[0m\u001b[1;33m(\u001b[0m\u001b[0mimage\u001b[0m\u001b[1;33m,\u001b[0m \u001b[0mM\u001b[0m\u001b[1;33m,\u001b[0m \u001b[1;33m(\u001b[0m\u001b[0mnW\u001b[0m\u001b[1;33m,\u001b[0m \u001b[0mnH\u001b[0m\u001b[1;33m)\u001b[0m\u001b[1;33m)\u001b[0m\u001b[1;33m\u001b[0m\u001b[1;33m\u001b[0m\u001b[0m\n\u001b[0;32m     64\u001b[0m \u001b[1;33m\u001b[0m\u001b[0m\n\u001b[1;32m---> 65\u001b[1;33m \u001b[1;32mdef\u001b[0m \u001b[0mresize\u001b[0m\u001b[1;33m(\u001b[0m\u001b[0mimage\u001b[0m\u001b[1;33m,\u001b[0m \u001b[0mwidth\u001b[0m\u001b[1;33m=\u001b[0m\u001b[1;32mNone\u001b[0m\u001b[1;33m,\u001b[0m \u001b[0mheight\u001b[0m\u001b[1;33m=\u001b[0m\u001b[1;32mNone\u001b[0m\u001b[1;33m,\u001b[0m \u001b[0minter\u001b[0m\u001b[1;33m=\u001b[0m\u001b[0mcv2\u001b[0m\u001b[1;33m.\u001b[0m\u001b[0mINTER_AREA\u001b[0m\u001b[1;33m)\u001b[0m\u001b[1;33m:\u001b[0m\u001b[1;33m\u001b[0m\u001b[1;33m\u001b[0m\u001b[0m\n\u001b[0m\u001b[0;32m     66\u001b[0m     \u001b[1;31m# initialize the dimensions of the image to be resized and\u001b[0m\u001b[1;33m\u001b[0m\u001b[1;33m\u001b[0m\u001b[1;33m\u001b[0m\u001b[0m\n\u001b[0;32m     67\u001b[0m     \u001b[1;31m# grab the image size\u001b[0m\u001b[1;33m\u001b[0m\u001b[1;33m\u001b[0m\u001b[1;33m\u001b[0m\u001b[0m\n",
      "\u001b[1;31mAttributeError\u001b[0m: module 'cv2' has no attribute 'INTER_AREA'"
     ]
    }
   ],
   "source": [
    "import imutils\n",
    "import argparse\n",
    "import time\n",
    "import cv2\n",
    "from imutils.video import VideoStream\n",
    "from imutils.video import FPS\n",
    "\n",
    "ap=argparse.ArgumentParser()\n",
    "ap.add_argument(\"-v\",\"--video\",type=str,help=\"path to input video file\")\n",
    "ap.add_argument(\"-t\",\"--tracker\",type=str,default=\"kcf\",help=\"path to input video file\")\n",
    "args=vars(ap.parse_args())\n",
    "\n",
    "(major,minor)=cv2.__version__.split(\".\")[:2]\n",
    "if int(minor)<3:\n",
    "    tracker=cv2.Tracker_create(args[\"tracker\"].upper())\n",
    "else:\n",
    "    OPENCV_OBJECT_TRACKERS ={\n",
    "        \"csrt\":cv2.TrackerCSRT_create,\n",
    "        \"kcf\":cv2.TrackerKCF_create,\n",
    "        \"boosting\":cv2.TrackerBoosting_create,\n",
    "        \"mil\":cv2.TrackerMIL_create,\n",
    "        \"tld\":cv2.TrackerTLD_create,\n",
    "        \"medianflow\":cv2.TrackerMedianFlow_create,\n",
    "        \"mosse\":cv2.TrackerMOSSE_create,\n",
    "    }\n",
    "    tracker=OPENCV_OBJECT_TRACKERS[args[\"tracker\"]]()\n",
    "\n",
    "initBB=None\n",
    "if not args.get(\"video\",False):\n",
    "    print(\"[INFO] starting video stream....\")\n",
    "    vs=VideoStream(src=0).start()\n",
    "    time.sleep(1.0)\n",
    "else:\n",
    "    vs=cv2.VideoCapture(args[\"video\"])\n",
    "\n",
    "fps=None\n",
    "\n",
    "while True:\n",
    "    frame=vs.read()\n",
    "    frame=frame[1] if args.get(\"video\",False) else frame\n",
    "\n",
    "    if frame in None:\n",
    "        break\n",
    "    frame=imutils.resize(frame,width=500)\n",
    "    (H,W)=frame.shape[:2]\n",
    "\n",
    "    if initBB is not None:\n",
    "        (success,box)=tracker.update(frame)\n",
    "        if success:\n",
    "            (x,y,w,h)=[int(v) for v in box]\n",
    "            cv2.rectangle(frame,(x,y),(x+w,y+h),(0,255,0),2)\n",
    "\n",
    "        fps.update()\n",
    "        fps.stop()\n",
    "\n",
    "        info=[\n",
    "            (\"Tracker\",args[\"tracker\"]),\n",
    "            (\"Success\",\"Yes\" if success else \"No\"),\n",
    "            (\"FPS\",\"{:.2f}\".format(fps.fps())),\n",
    "        ]\n",
    "        for (i,(k,v)) in enumerate(info):\n",
    "            text=\"{}:{}\".format(k,v)\n",
    "            cv2.putText(frame,text,(10,H-((i*20)+20)),cv2.FONT_HERSHEY_SIMPLEX,0.6,(0,0,255),2)\n",
    "            cv2.imshow(\"Frame\",frame)\n",
    "            key=cv2.waitKey(1) & 0xFF\n",
    "            if key==ord(\"s\"):\n",
    "                initBB=cv2.selectROI(\"Frame\",frame,fromCenter=False,showCrosshair=True)\n",
    "                tracker.init(frame,initBB)\n",
    "                fps=FPS().start()\n",
    "            elif key==ord(\"q\"):\n",
    "                break\n",
    "\n",
    "            if not args.get(\"video\",False):\n",
    "                vs.stop()\n",
    "            else:\n",
    "                vs.release()\n",
    "\n",
    "            cv2.destroyAllWindows()\n"
   ]
  },
  {
   "cell_type": "code",
   "execution_count": 1,
   "metadata": {},
   "outputs": [],
   "source": [
    "import cv2\n",
    "import numpy as np\n",
    "videocap=cv2.VideoCapture('traffic.flv')\n",
    "firstframe=None\n",
    "while True:\n",
    "\tret,frame=videocap.read()\n",
    "\tif not ret:\n",
    "\t\tbreak\n",
    "\tpp=cv2.cvtColor(frame,cv2.COLOR_BGR2GRAY)      #将RGB转换为GSV\n",
    "\tif firstframe is None:                     #前面已经设置为空\n",
    "\t\tfirstframe=pp\n",
    "\t\tcontinue\n",
    "\tframeDelta=cv2.absdiff(firstframe,pp)      #帧差法，将firstframe和gray的差值输出到frameDelta中\n",
    "\tthresh=cv2.threshold(frameDelta,25,255,cv2.THRESH_BINARY)[1]   #图像二值化（使得图像明显黑白化）\n",
    "\tthresh=cv2.dilate(thresh,None,iterations=2)              \n",
    "\tx,y,w,h=cv2.boundingRect(thresh)       #确定目标大小\n",
    "\tframe=cv2.rectangle(frame,(x,y),(x+w,y+h),(0,0,255),2)   #在frame上画出矩形\n",
    "\tcv2.imshow(\"frame\",frame)    #原视频文件\n",
    "\tcv2.imshow(\"Thresh\",thresh)\n",
    "\tcv2.imshow(\"frameDelta\",frameDelta)\n",
    "\tkey=cv2.waitKey(50)&0xFF\n",
    "\tif key==ord(\"q\"):\n",
    "\t\tbreak\n",
    "videocap.release()\n",
    "\n",
    "\n",
    "cv2.destroyAllWindows()\n"
   ]
  },
  {
   "cell_type": "code",
   "execution_count": null,
   "metadata": {},
   "outputs": [],
   "source": []
  },
  {
   "cell_type": "code",
   "execution_count": null,
   "metadata": {},
   "outputs": [],
   "source": []
  }
 ],
 "metadata": {
  "kernelspec": {
   "display_name": "Python 3",
   "language": "python",
   "name": "python3"
  },
  "language_info": {
   "codemirror_mode": {
    "name": "ipython",
    "version": 3
   },
   "file_extension": ".py",
   "mimetype": "text/x-python",
   "name": "python",
   "nbconvert_exporter": "python",
   "pygments_lexer": "ipython3",
   "version": "3.6.8"
  }
 },
 "nbformat": 4,
 "nbformat_minor": 2
}
