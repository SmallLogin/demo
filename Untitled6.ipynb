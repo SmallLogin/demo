{
 "cells": [
  {
   "cell_type": "code",
   "execution_count": null,
   "metadata": {},
   "outputs": [],
   "source": [
    "\n",
    "# coding:utf8\n",
    "import cv2\n",
    " \n",
    " \n",
    "def detect_video(video):\n",
    "    camera = cv2.VideoCapture(video)\n",
    "    history = 20    # 训练帧数\n",
    " \n",
    "    bs = cv2.createBackgroundSubtractorKNN(detectShadows=True)  # 背景减除器，设置阴影检测\n",
    "    bs.setHistory(history)\n",
    " \n",
    "    frames = 0\n",
    " \n",
    "    while True:\n",
    "        res, frame = camera.read()\n",
    " \n",
    "        if not res:\n",
    "            break\n",
    " \n",
    "        fg_mask = bs.apply(frame)   # 获取 foreground mask\n",
    " \n",
    "        if frames < history:\n",
    "            frames += 1\n",
    "            continue\n",
    " \n",
    "        # 对原始帧进行膨胀去噪\n",
    "        th = cv2.threshold(fg_mask.copy(), 244, 255, cv2.THRESH_BINARY)[1]\n",
    "        th = cv2.erode(th, cv2.getStructuringElement(cv2.MORPH_ELLIPSE, (3, 3)), iterations=2)\n",
    "        dilated = cv2.dilate(th, cv2.getStructuringElement(cv2.MORPH_ELLIPSE, (8, 3)), iterations=2)\n",
    "        # 获取所有检测框\n",
    "        image, contours, hier = cv2.findContours(dilated, cv2.RETR_EXTERNAL, cv2.CHAIN_APPROX_SIMPLE)\n",
    " \n",
    "        for c in contours:\n",
    "            # 获取矩形框边界坐标\n",
    "            x, y, w, h = cv2.boundingRect(c)\n",
    "            # 计算矩形框的面积\n",
    "            area = cv2.contourArea(c)\n",
    "            if 500 < area < 3000:\n",
    "                cv2.rectangle(frame, (x, y), (x + w, y + h), (0, 255, 0), 2)\n",
    " \n",
    "        cv2.imshow(\"detection\", frame)\n",
    "        cv2.imshow(\"back\", dilated)\n",
    "        if cv2.waitKey(110) & 0xff == 27:\n",
    "            break\n",
    "    camera.release()\n",
    " \n",
    " \n",
    "if __name__ == '__main__':\n",
    "    video = 'traffic.avi'\n",
    "    detect_video(video)\n",
    "\n"
   ]
  }
 ],
 "metadata": {
  "kernelspec": {
   "display_name": "Python 3",
   "language": "python",
   "name": "python3"
  },
  "language_info": {
   "codemirror_mode": {
    "name": "ipython",
    "version": 3
   },
   "file_extension": ".py",
   "mimetype": "text/x-python",
   "name": "python",
   "nbconvert_exporter": "python",
   "pygments_lexer": "ipython3",
   "version": "3.6.6"
  }
 },
 "nbformat": 4,
 "nbformat_minor": 2
}
