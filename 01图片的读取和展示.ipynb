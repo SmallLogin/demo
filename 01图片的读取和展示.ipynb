{
 "cells": [
  {
   "cell_type": "code",
   "execution_count": null,
   "metadata": {},
   "outputs": [],
   "source": [
    "#1.引入OpenCV 2.使用OpenCV的API 3.stop程序暂停\n",
    "import cv2\n",
    "img=cv2.imread('image00.jpg',1)#读取图片方法，两个参数，前一个参数代表图片名称，后一个参数图片类型，当其为1时，照片读取为彩色，当其为0时，照片读取为灰色\n",
    "cv2.imshow('image',img)#图片展示方法，两个参数，第一个参数表示当前窗体的名称，第二个窗体表示要展示的内容\n",
    "cv2.waitKey(0)"
   ]
  },
  {
   "cell_type": "code",
   "execution_count": 2,
   "metadata": {},
   "outputs": [
    {
     "data": {
      "text/plain": [
       "True"
      ]
     },
     "execution_count": 2,
     "metadata": {},
     "output_type": "execute_result"
    }
   ],
   "source": [
    "import cv2\n",
    "img=cv2.imread('image00.jpg',1)\n",
    "cv2.imwrite('image01.jpg',img)"
   ]
  },
  {
   "cell_type": "code",
   "execution_count": null,
   "metadata": {},
   "outputs": [],
   "source": []
  }
 ],
 "metadata": {
  "kernelspec": {
   "display_name": "Python 3",
   "language": "python",
   "name": "python3"
  },
  "language_info": {
   "codemirror_mode": {
    "name": "ipython",
    "version": 3
   },
   "file_extension": ".py",
   "mimetype": "text/x-python",
   "name": "python",
   "nbconvert_exporter": "python",
   "pygments_lexer": "ipython3",
   "version": "3.6.6"
  }
 },
 "nbformat": 4,
 "nbformat_minor": 2
}
