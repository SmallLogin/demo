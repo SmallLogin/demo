{
 "cells": [
  {
   "cell_type": "code",
   "execution_count": null,
   "metadata": {},
   "outputs": [],
   "source": [
    "import  cv2\n",
    "import  numpy as np\n",
    "\n",
    "capture = cv2.VideoCapture('traffic.flv')#读取视频\n",
    "while True:\n",
    "    ret, frame = capture.read()#读取视频的一帧\n",
    "    if ret == False:\n",
    "        break\n",
    "\n",
    "    frame = cv2.resize(frame,(640,350))#改变每一帧图像的宽和高\n",
    "\n",
    "\n",
    "    hsv = cv2.cvtColor(frame,cv2.COLOR_BGR2HSV)#转变成hsv\n",
    "\n",
    "    lower_hsv = np.array([35,43,45])\n",
    "    upper_hsv = np.array([77,255,255])#范围\n",
    "\n",
    "    mask = cv2.inRange(hsv,lower_hsv,upper_hsv)\n",
    "    dst = cv2.bitwise_and(frame,frame,mask=mask)#提取特定颜色\n",
    "\n",
    "\n",
    "    cv2.imshow('video',frame)\n",
    "    cv2.imshow('mask',mask)\n",
    "    cv2.imshow('dst',dst)\n",
    "\n",
    "    c = cv2.waitKey(40)\n",
    "    if c ==27:\n",
    "        break\n"
   ]
  }
 ],
 "metadata": {
  "kernelspec": {
   "display_name": "Python 3",
   "language": "python",
   "name": "python3"
  },
  "language_info": {
   "codemirror_mode": {
    "name": "ipython",
    "version": 3
   },
   "file_extension": ".py",
   "mimetype": "text/x-python",
   "name": "python",
   "nbconvert_exporter": "python",
   "pygments_lexer": "ipython3",
   "version": "3.6.6"
  }
 },
 "nbformat": 4,
 "nbformat_minor": 2
}
