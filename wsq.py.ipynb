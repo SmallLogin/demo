{
 "cells": [
  {
   "cell_type": "code",
   "execution_count": null,
   "metadata": {},
   "outputs": [],
   "source": [
    "'''\n",
    "import cv2 #导入opencv库\n",
    "\n",
    "#读取一张图片，地址不能带中文\n",
    "imgviewx=cv2.imread(\"wsq1.jpg\")\n",
    "\n",
    "#创建一个窗口，中文显示会出乱码\n",
    "cv2.namedWindow(\"start\")\n",
    "\n",
    "imgviewx2=imgviewx.copy()\n",
    "#得到灰度图片\n",
    "imgviewx2=cv2.cvtColor(imgviewx2,cv2.COLOR_BGR2GRAY)\n",
    "#二值化图像，黑白图像，只有0和1,0为0,1为255\n",
    "ret,imgviewx2=cv2.threshold(imgviewx2,0,255,cv2.THRESH_BINARY|cv2.THRESH_OTSU)\n",
    "#二值化方法2\n",
    "imgviewx2=cv2.adaptiveThreshold(imgviewx2,200,cv2.ADAPTIVE_THRESH_GAUSSIAN_C,cv2.THRESH_BINARY,25,5)\n",
    "\n",
    "\n",
    "#显示图片，参数：（窗口标识字符串，imread读入的图像）\n",
    "cv2.imshow(\"img222222\",imgviewx2)\n",
    "cv2.imshow(\"start\",imgviewx)\n",
    "\n",
    "#窗口等待任意键盘按键输入,0为一直等待,其他数字为毫秒数\n",
    "cv2.waitKey(0)\n",
    "\n",
    "#销毁窗口，退出程序\n",
    "cv2.destroyAllWindows()\n",
    "'''\n",
    "from PIL import Image\n",
    "import numpy as np\n",
    "import cv2\n",
    "img2 = Image.open('wsq1.jpg')\n",
    "#img1 = Image.open('./Amazing_RGB_2L.bmp')\n",
    "# img1 = img1.convert('RGBA')\n",
    "img2 = img2.convert('RGBA')\n",
    "pixdata = img2.load()\n",
    "for y in range(img2.size[1]):\n",
    "    for x in range(img2.size[0]):\n",
    "        if pixdata[x,y][0]==0 and pixdata[x,y][1]==0 and pixdata[x,y][2]<256:\n",
    "           pixdata[x, y] = (255, 0, 255,0)\n",
    "\n",
    "img2.show()\n"
   ]
  },
  {
   "cell_type": "code",
   "execution_count": null,
   "metadata": {},
   "outputs": [],
   "source": []
  }
 ],
 "metadata": {
  "kernelspec": {
   "display_name": "Python 3",
   "language": "python",
   "name": "python3"
  },
  "language_info": {
   "codemirror_mode": {
    "name": "ipython",
    "version": 3
   },
   "file_extension": ".py",
   "mimetype": "text/x-python",
   "name": "python",
   "nbconvert_exporter": "python",
   "pygments_lexer": "ipython3",
   "version": "3.6.6"
  }
 },
 "nbformat": 4,
 "nbformat_minor": 2
}
