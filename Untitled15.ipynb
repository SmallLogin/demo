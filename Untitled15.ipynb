{
 "cells": [
  {
   "cell_type": "code",
   "execution_count": 1,
   "metadata": {},
   "outputs": [
    {
     "ename": "ModuleNotFoundError",
     "evalue": "No module named 'pyftpdlib'",
     "output_type": "error",
     "traceback": [
      "\u001b[1;31m---------------------------------------------------------------------------\u001b[0m",
      "\u001b[1;31mModuleNotFoundError\u001b[0m                       Traceback (most recent call last)",
      "\u001b[1;32m<ipython-input-1-0e6a6e379231>\u001b[0m in \u001b[0;36m<module>\u001b[1;34m()\u001b[0m\n\u001b[0;32m      5\u001b[0m \u001b[1;31m# @File    : FTP_server.py\u001b[0m\u001b[1;33m\u001b[0m\u001b[1;33m\u001b[0m\u001b[0m\n\u001b[0;32m      6\u001b[0m \u001b[1;33m\u001b[0m\u001b[0m\n\u001b[1;32m----> 7\u001b[1;33m \u001b[1;32mfrom\u001b[0m \u001b[0mpyftpdlib\u001b[0m\u001b[1;33m.\u001b[0m\u001b[0mauthorizers\u001b[0m \u001b[1;32mimport\u001b[0m \u001b[0mDummyAuthorizer\u001b[0m\u001b[1;33m\u001b[0m\u001b[0m\n\u001b[0m\u001b[0;32m      8\u001b[0m \u001b[1;32mfrom\u001b[0m \u001b[0mpyftpdlib\u001b[0m\u001b[1;33m.\u001b[0m\u001b[0mhandlers\u001b[0m \u001b[1;32mimport\u001b[0m \u001b[0mFTPHandler\u001b[0m\u001b[1;33m\u001b[0m\u001b[0m\n\u001b[0;32m      9\u001b[0m \u001b[1;32mfrom\u001b[0m \u001b[0mpyftpdlib\u001b[0m\u001b[1;33m.\u001b[0m\u001b[0mservers\u001b[0m \u001b[1;32mimport\u001b[0m \u001b[0mFTPServer\u001b[0m\u001b[1;33m\u001b[0m\u001b[0m\n",
      "\u001b[1;31mModuleNotFoundError\u001b[0m: No module named 'pyftpdlib'"
     ]
    }
   ],
   "source": [
    "#!/usr/bin/env python\n",
    "# -*- coding: utf-8 -*-\n",
    "# @Time    : 2018/11/19 10:25\n",
    "# @Author  : blvin.Don\n",
    "# @File    : FTP_server.py\n",
    "\n",
    "from pyftpdlib.authorizers import DummyAuthorizer\n",
    "from pyftpdlib.handlers import FTPHandler\n",
    "from pyftpdlib.servers import FTPServer\n",
    "import os\n",
    "\n",
    "CUR_PATH = r'D:/UAV_image'\n",
    "def del_file(path):\n",
    "    ls = os.listdir(path)\n",
    "    for i in ls:\n",
    "        c_path = os.path.join(path, i)\n",
    "        if os.path.isdir(c_path):\n",
    "            del_file(c_path)\n",
    "        else:\n",
    "            os.remove(c_path)\n",
    "del_file(CUR_PATH)\n",
    "\n",
    "#实例化虚拟用户，这是FTP验证首要条件\n",
    "authorizer = DummyAuthorizer()\n",
    "\n",
    "#添加用户权限和路径，括号内的参数是(用户名， 密码， 用户目录， 权限)\n",
    "authorizer.add_user('user', '12345', 'D:/UAV_image', perm='elradfmw')\n",
    "\n",
    "#添加匿名用户 只需要路径\n",
    "authorizer.add_anonymous('D:/UAV_image')\n",
    "\n",
    "#初始化ftp句柄\n",
    "handler = FTPHandler\n",
    "handler.authorizer = authorizer\n",
    "\n",
    "#添加被动端口范围\n",
    "handler.passive_ports = range(2000, 2333)\n",
    "\n",
    "#监听ip 和 端口\n",
    "server = FTPServer(('192.168.31.162', 8090), handler)\n",
    "\n",
    "#开始服务\n",
    "server.serve_forever()\n"
   ]
  },
  {
   "cell_type": "code",
   "execution_count": null,
   "metadata": {},
   "outputs": [],
   "source": []
  }
 ],
 "metadata": {
  "kernelspec": {
   "display_name": "Python 3",
   "language": "python",
   "name": "python3"
  }
 },
 "nbformat": 4,
 "nbformat_minor": 2
}
