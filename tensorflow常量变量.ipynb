{
 "cells": [
  {
   "cell_type": "code",
   "execution_count": 8,
   "metadata": {},
   "outputs": [
    {
     "name": "stdout",
     "output_type": "stream",
     "text": [
      "Tensor(\"Const_6:0\", shape=(), dtype=int32) <tf.Variable 'var_4:0' shape=() dtype=int32_ref>\n",
      "2\n",
      "10\n"
     ]
    }
   ],
   "source": [
    "import tensorflow as tf\n",
    "#data1=tf.constant(2.5)\n",
    "data1=tf.constant(2,dtype=tf.int32)\n",
    "data2=tf.Variable(10,name='var')\n",
    "print(data1,data2)\n",
    "sess=tf.Session()\n",
    "print(sess.run(data1))\n",
    "init=tf.global_variables_initializer()\n",
    "sess.run(init)\n",
    "print(sess.run(data2))\n",
    "sess.close\n",
    "#tensorflow本质是由张量tensor+计算图grahps\n",
    "#张量就是数据，包括变量与常量以及维度，即一维或者二维\n",
    "#op  操作\n",
    "#计算图graphs    数据操作过程\n",
    "#session是核心\n",
    "'''\n",
    "init=tf.global_variables_initializer()\n",
    "sess=tf.Session()\n",
    "with sess:\n",
    "    sess.run(init)\n",
    "    print(sess.run(data2))"
   ]
  },
  {
   "cell_type": "code",
   "execution_count": null,
   "metadata": {},
   "outputs": [],
   "source": []
  }
 ],
 "metadata": {
  "kernelspec": {
   "display_name": "Python 3",
   "language": "python",
   "name": "python3"
  },
  "language_info": {
   "codemirror_mode": {
    "name": "ipython",
    "version": 3
   },
   "file_extension": ".py",
   "mimetype": "text/x-python",
   "name": "python",
   "nbconvert_exporter": "python",
   "pygments_lexer": "ipython3",
   "version": "3.6.5"
  }
 },
 "nbformat": 4,
 "nbformat_minor": 2
}
