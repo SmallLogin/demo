{
 "cells": [
  {
   "cell_type": "code",
   "execution_count": 14,
   "metadata": {},
   "outputs": [],
   "source": [
    "# coding:utf-8\n",
    "import cv2\n",
    "import numpy as np\n",
    "#from MyCvUtils import MyCvUtils\n",
    "\n",
    "#datapath = \"D:/imgData/video/\"\n",
    "\n",
    "bs = cv2.createBackgroundSubtractorKNN(detectShadows=True)\n",
    "camera = cv2.VideoCapture(\"traffic.flv\")\n",
    "\n",
    "#ret, frame = camera.read()\n",
    "\n",
    "while True:\n",
    "    ret, frame = camera.read()\n",
    "    # 计算前景掩码，包含 前景的白色值 以及 阴影的灰色值\n",
    "    fgmask = bs.apply(frame)\n",
    "    # 前景区域二值化，将非白色（0-244）的非前景区域（包含背景以及阴影）均设为0，前景的白色（244-255）设置为255\n",
    "    th = cv2.threshold(fgmask.copy(), 244, 255, cv2.THRESH_BINARY)[1]\n",
    "    # 前景区域形态学处理\n",
    "    th = cv2.erode(th, cv2.getStructuringElement(cv2.MORPH_ELLIPSE, (3, 3)), iterations=2)\n",
    "    dilated = cv2.dilate(th, cv2.getStructuringElement(cv2.MORPH_ELLIPSE, (8, 3)), iterations=2)\n",
    "    # 绘制前景图像的轮廓矩形\n",
    "    image, contours, hier = cv2.findContours(dilated, cv2.RETR_EXTERNAL, cv2.CHAIN_APPROX_SIMPLE)\n",
    "    for c in contours:\n",
    "        #       对轮廓设置最小区域，对检测结果降噪\n",
    "        if cv2.contourArea(c) > 1900:\n",
    "            (x, y, w, h) = cv2.boundingRect(c)\n",
    "            cv2.rectangle(frame, (x, y), (x + w, y + h), (255, 255, 0), 2)\n",
    "\n",
    "    #cv2.imshow(\"mog\", fgmask)\n",
    "   # cv2.imshow(\"thresh\", th)\n",
    "    #cv2.imshow(\"diff\", frame & cv2.cvtColor(fgmask, cv2.COLOR_GRAY2BGR))\n",
    "    cv2.imshow(\"detection\", frame)\n",
    "\n",
    "    if (cv2.waitKey(30) & 0xFF) == 27:\n",
    "        break\n",
    "    if (cv2.waitKey(30) & 0xFF) == ord('q'):\n",
    "        break\n",
    "\n",
    "camera.release()\n",
    "cv2.destroyAllWindows()"
   ]
  },
  {
   "cell_type": "code",
   "execution_count": null,
   "metadata": {},
   "outputs": [],
   "source": []
  }
 ],
 "metadata": {
  "kernelspec": {
   "display_name": "Python 3",
   "language": "python",
   "name": "python3"
  },
  "language_info": {
   "codemirror_mode": {
    "name": "ipython",
    "version": 3
   },
   "file_extension": ".py",
   "mimetype": "text/x-python",
   "name": "python",
   "nbconvert_exporter": "python",
   "pygments_lexer": "ipython3",
   "version": "3.6.6"
  }
 },
 "nbformat": 4,
 "nbformat_minor": 2
}
